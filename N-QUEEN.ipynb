{
 "cells": [
  {
   "cell_type": "markdown",
   "id": "2812cc31",
   "metadata": {},
   "source": [
    "# N-Queens Problem Using 4 Chromosomes"
   ]
  },
  {
   "cell_type": "code",
   "execution_count": 1,
   "id": "ebdd3f9d",
   "metadata": {},
   "outputs": [],
   "source": [
    "import random"
   ]
  },
  {
   "cell_type": "markdown",
   "id": "27b81793",
   "metadata": {},
   "source": [
    "GENERTAING RANDOM POPULATION"
   ]
  },
  {
   "cell_type": "code",
   "execution_count": 2,
   "id": "54e77e49",
   "metadata": {},
   "outputs": [
    {
     "name": "stdout",
     "output_type": "stream",
     "text": [
      "[[6, 1, 6, 4, 4, 6, 4, 4], [4, 7, 5, 7, 0, 6, 2, 1], [3, 3, 3, 2, 6, 6, 4, 4], [7, 0, 3, 1, 2, 7, 0, 0]]\n",
      "8\n"
     ]
    }
   ],
   "source": [
    "queens=8\n",
    "population=list()\n",
    "chromosome=list()\n",
    "for i in range(4):\n",
    "    for j in range(queens):\n",
    "        val=random.randrange(queens)\n",
    "        chromosome.append(val)\n",
    "    population.append(chromosome)\n",
    "    chromosome=[]\n",
    "print(population)\n",
    "print(len(population[0]))\n",
    "        "
   ]
  },
  {
   "cell_type": "markdown",
   "id": "93ec4bf1",
   "metadata": {},
   "source": [
    "FITNESS FUNCTION"
   ]
  },
  {
   "cell_type": "code",
   "execution_count": 3,
   "id": "1071b132",
   "metadata": {},
   "outputs": [],
   "source": [
    "def fittness(chromosome):\n",
    "    total_attacking=0\n",
    "    for i in range(len(chromosome)):\n",
    "        total_attacking+=i\n",
    "    lower_diagonal=0\n",
    "    upper_diagonal=0\n",
    "    horizontal=0\n",
    "    for i in range(len(chromosome)): \n",
    "        calculated=chromosome[i]-1\n",
    "        for j in range(i+1,len(chromosome)):\n",
    "            if calculated<0:\n",
    "                break\n",
    "            else:\n",
    "                if chromosome[j]==calculated:\n",
    "                    lower_diagonal+=1\n",
    "                    calculated-=1\n",
    "    for i in range(len(chromosome)):\n",
    "        calculated=chromosome[i]+1\n",
    "        for j in range(i+1,len(chromosome)):\n",
    "            if calculated==len(chromosome):\n",
    "                break\n",
    "            else:\n",
    "                if chromosome[j]==calculated:\n",
    "                    upper_diagonal+=1\n",
    "                    calculated+=1\n",
    "    for i in range(len(chromosome)):\n",
    "        for j in range(i+1,len(chromosome)):\n",
    "            if chromosome[i]==chromosome[j]:\n",
    "                horizontal+=1 \n",
    "    fit=total_attacking-(upper_diagonal+lower_diagonal+horizontal)\n",
    "    return fit \n",
    "        "
   ]
  },
  {
   "cell_type": "markdown",
   "id": "ac9896bc",
   "metadata": {},
   "source": [
    "ROLLET WHEeL FUNCTION"
   ]
  },
  {
   "cell_type": "code",
   "execution_count": 4,
   "id": "ab6646ba",
   "metadata": {},
   "outputs": [],
   "source": [
    "def rollet_wheel(select,added_fittness_ratio):\n",
    "    i=0\n",
    "    if select>=0 and select<=added_fittness_ratio[i]:\n",
    "        return 0\n",
    "    elif select>added_fittness_ratio[i] and select<=added_fittness_ratio[i+1]:\n",
    "        return 1\n",
    "    elif select>added_fittness_ratio[i+1] and select<=added_fittness_ratio[i+2]:\n",
    "        return 2\n",
    "    elif select>added_fittness_ratio[i+2] and select<=added_fittness_ratio[i+3]:\n",
    "        return 3\n",
    "    elif select>added_fittness_ratio[i+3] and select<=added_fittness_ratio[i+4]:\n",
    "        return 4\n",
    "    else:\n",
    "        return 5"
   ]
  },
  {
   "cell_type": "markdown",
   "id": "dcd3e33a",
   "metadata": {},
   "source": [
    "CROSS OVER FUNCTION"
   ]
  },
  {
   "cell_type": "code",
   "execution_count": 5,
   "id": "9f2fd2d6",
   "metadata": {},
   "outputs": [],
   "source": [
    "def cross_over(cross):\n",
    "    cut=random.randrange(1,8)\n",
    "    chrom1=cross[0]\n",
    "    chrom2=cross[1]\n",
    "    for i in range(cut):\n",
    "        chrom1[i],chrom2[i]=chrom2[i],chrom1[i]\n",
    "    crossed=list()\n",
    "    crossed.append(chrom1)\n",
    "    crossed.append(chrom2)\n",
    "    return crossed"
   ]
  },
  {
   "cell_type": "markdown",
   "id": "959a0238",
   "metadata": {},
   "source": [
    "MUTATION FUNCTION"
   ]
  },
  {
   "cell_type": "code",
   "execution_count": 6,
   "id": "45fd93a2",
   "metadata": {},
   "outputs": [],
   "source": [
    "def mutation(population):\n",
    "    for i in population:\n",
    "        first=random.randrange(8)\n",
    "        second=random.randrange(8)\n",
    "        temp=i[first]\n",
    "        i[first]=i[second]\n",
    "        i[second]=temp\n",
    "    return population"
   ]
  },
  {
   "cell_type": "markdown",
   "id": "c7224168",
   "metadata": {},
   "source": [
    "DRIVER PROGRAMME"
   ]
  },
  {
   "cell_type": "code",
   "execution_count": 7,
   "id": "aa01d2ca",
   "metadata": {},
   "outputs": [
    {
     "name": "stdout",
     "output_type": "stream",
     "text": [
      "GENERATION  1\n",
      "[4, 7, 5, 4, 0, 6, 1, 2]   [4, 7, 5, 4, 0, 6, 1, 2]   [6, 7, 6, 1, 4, 6, 4, 4]   [6, 7, 6, 1, 4, 6, 4, 4]   \n",
      "\n",
      "\n",
      "GENERATION  2\n",
      "[0, 4, 7, 4, 5, 6, 2, 1]   [0, 4, 7, 4, 5, 6, 2, 1]   [0, 4, 7, 4, 5, 6, 2, 1]   [0, 4, 7, 4, 5, 6, 2, 1]   \n",
      "\n",
      "\n",
      "GENERATION  3\n",
      "[5, 4, 1, 4, 0, 6, 2, 7]   [5, 4, 1, 4, 0, 6, 2, 7]   [5, 4, 1, 4, 0, 6, 2, 7]   [5, 4, 1, 4, 0, 6, 2, 7]   \n",
      "\n",
      "\n",
      "GENERATION  4\n",
      "[4, 1, 7, 5, 0, 6, 2, 4]   [4, 1, 7, 5, 0, 6, 2, 4]   [4, 1, 7, 5, 0, 6, 2, 4]   [4, 1, 7, 5, 0, 6, 2, 4]   \n",
      "\n",
      "\n",
      "GENERATION  5\n",
      "[7, 4, 4, 5, 0, 2, 1, 6]   [7, 4, 4, 5, 0, 2, 1, 6]   [7, 4, 4, 5, 0, 2, 1, 6]   [7, 4, 4, 5, 0, 2, 1, 6]   \n",
      "\n",
      "\n",
      "GENERATION  6\n",
      "[1, 2, 4, 5, 0, 4, 7, 6]   [1, 2, 4, 5, 0, 4, 7, 6]   [1, 2, 4, 5, 0, 4, 7, 6]   [1, 2, 4, 5, 0, 4, 7, 6]   \n",
      "\n",
      "\n",
      "GENERATION  7\n",
      "[1, 2, 6, 5, 0, 4, 7, 4]   [1, 2, 6, 5, 0, 4, 7, 4]   [1, 2, 6, 5, 0, 4, 7, 4]   [1, 2, 6, 5, 0, 4, 7, 4]   \n",
      "\n",
      "\n",
      "GENERATION  8\n",
      "[0, 6, 2, 5, 4, 4, 7, 1]   [0, 6, 2, 5, 4, 4, 7, 1]   [0, 6, 2, 5, 4, 4, 7, 1]   [0, 6, 2, 5, 4, 4, 7, 1]   \n",
      "\n",
      "\n",
      "GENERATION  9\n",
      "[1, 7, 4, 2, 5, 4, 6, 0]   [1, 7, 4, 2, 5, 4, 6, 0]   [1, 7, 4, 2, 5, 4, 6, 0]   [1, 7, 4, 2, 5, 4, 6, 0]   \n",
      "\n",
      "\n",
      "GENERATION  10\n",
      "[1, 4, 7, 2, 6, 4, 5, 0]   [1, 4, 7, 2, 6, 4, 5, 0]   [1, 4, 7, 2, 6, 4, 5, 0]   [1, 4, 7, 2, 6, 4, 5, 0]   \n",
      "\n",
      "\n"
     ]
    }
   ],
   "source": [
    "for l in range(10):\n",
    "    fittness_list=list()\n",
    "    total_fittness=0\n",
    "    added_fittness_ratio=list()\n",
    "    cross1=list()\n",
    "    cross2=list()\n",
    "    fittness_ratio=list()\n",
    "    for i in population:\n",
    "        fittness_list.append(fittness(i))\n",
    "    for i in fittness_list:\n",
    "        total_fittness+=i\n",
    "    for i in fittness_list:\n",
    "        ratio= i/total_fittness*100\n",
    "        fittness_ratio.append(ratio)\n",
    "    added_fittness_ratio.append(fittness_ratio[0])\n",
    "    var=fittness_ratio[0]\n",
    "    for i in range(1,len(fittness_ratio)):\n",
    "        var+=fittness_ratio[i]\n",
    "    added_fittness_ratio.append(var)\n",
    "    crossover_list=list()\n",
    "    for i in range(len(population)):\n",
    "        select=random.randrange(101)\n",
    "        crossover_list.append(rollet_wheel(select,added_fittness_ratio))\n",
    "    for i in range(len(crossover_list)):\n",
    "        if crossover_list[i]==crossover_list[i+1]:\n",
    "            cross1.append(population[crossover_list[i]])\n",
    "            cross1.append(population[crossover_list[i+2]])\n",
    "            cross2.append(population[crossover_list[i+1]])\n",
    "            cross2.append(population[crossover_list[i+3]])\n",
    "            break\n",
    "        elif crossover_list[i]==crossover_list[i+2]:\n",
    "            cross1.append(population[crossover_list[i]])\n",
    "            cross1.append(population[crossover_list[i+3]])\n",
    "            cross2.append(population[crossover_list[i+1]])\n",
    "            cross2.append(population[crossover_list[i+2]])\n",
    "            break\n",
    "        else:\n",
    "            cross1.append(population[crossover_list[i]])\n",
    "            cross1.append(population[crossover_list[i+1]])\n",
    "            cross2.append(population[crossover_list[i+2]])\n",
    "            cross2.append(population[crossover_list[i+3]])\n",
    "            break\n",
    "    val1=cross_over(cross1)\n",
    "    val2=cross_over(cross2)\n",
    "    population=[]\n",
    "    for i in range(len(cross1)):\n",
    "        population.append(val1[i])\n",
    "        population.append(val2[i])\n",
    "    mutation(population)\n",
    "    print(\"GENERATION \",format(l+1))\n",
    "    for i in population:\n",
    "        print(i,end=\"   \")\n",
    "    print(\"\\n\\n\")\n",
    "\n",
    "\n",
    "            "
   ]
  }
 ],
 "metadata": {
  "kernelspec": {
   "display_name": "Python 3 (ipykernel)",
   "language": "python",
   "name": "python3"
  },
  "language_info": {
   "codemirror_mode": {
    "name": "ipython",
    "version": 3
   },
   "file_extension": ".py",
   "mimetype": "text/x-python",
   "name": "python",
   "nbconvert_exporter": "python",
   "pygments_lexer": "ipython3",
   "version": "3.9.6"
  }
 },
 "nbformat": 4,
 "nbformat_minor": 5
}
